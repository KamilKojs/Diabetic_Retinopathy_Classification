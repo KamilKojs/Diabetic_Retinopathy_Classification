{
 "cells": [
  {
   "cell_type": "markdown",
   "metadata": {},
   "source": [
    "# Follow-up to the fourth analysis"
   ]
  },
  {
   "cell_type": "markdown",
   "metadata": {},
   "source": [
    "As a result of fourth analysis 6 models were trained and tested. First model was efficientnet b7 with increased image resolution to 384x384. It scored 0.755 kappa score. Unfortunately to increase the resolution even more a architecture change was needed - images in res 512x512 were to big to be loaded to Nvidia V100 gpus using efficientnet b7. Instead because efficientnet architecture scored the best in the previous analysis the efficientnet b5 was used to be trained using 512x512 images. The batch size was 6. The model scored 0.801 kappa score. In order to load to gpu image in resolution 768x768 the batch size had to be downscaled to 2. The model trained on images 768x768 scored 0.724 kappa score. Unfortunatly I don't have access to GPU with more memory than 16GB (I believe there's only 1 GPU available worldwide with more memory and that's A100) so I couldn't test 1024x1024 resolution. Also since the resolution 768x768 showed drop in the model's performance there was no point in testing even higher resolutions. The results from resolution changes are presented in the below table:"
   ]
  },
  {
   "cell_type": "code",
   "execution_count": 2,
   "metadata": {},
   "outputs": [
    {
     "data": {
      "text/plain": [
       "[<matplotlib.lines.Line2D at 0x7f9aaba10190>]"
      ]
     },
     "execution_count": 2,
     "metadata": {},
     "output_type": "execute_result"
    },
    {
     "data": {
      "image/png": "[encoded data removed]",
      "text/plain": [
       "<Figure size 432x288 with 1 Axes>"
      ]
     },
     "metadata": {
      "needs_background": "light"
     },
     "output_type": "display_data"
    }
   ],
   "source": [
    "import matplotlib.pyplot as plt\n",
    "\n",
    "x = [\"224x224 b7\", \"384x384 b7\", \"512x512 b5\", \"768x768 b5\", \"1024x1024 b5\"]\n",
    "y = [0.668, 0.755, 0.801, 0.724, None]\n",
    "plt.plot(x, y, linestyle='None', marker='o', markersize = 5.0)"
   ]
  },
  {
   "cell_type": "markdown",
   "metadata": {},
   "source": [
    "As the above table showed, the resolution 512x512 obtained the best results (taking into account the architectural change from b7 to b5)"
   ]
  }
 ],
 "metadata": {
  "interpreter": {
   "hash": "616fefe5168510cb6bf1185478f8c5ca553b54d10c601b7c56f29b938404de5b"
  },
  "kernelspec": {
   "display_name": "Python 3.8.7 64-bit",
   "language": "python",
   "name": "python3"
  },
  "language_info": {
   "codemirror_mode": {
    "name": "ipython",
    "version": 3
   },
   "file_extension": ".py",
   "mimetype": "text/x-python",
   "name": "python",
   "nbconvert_exporter": "python",
   "pygments_lexer": "ipython3",
   "version": "3.8.7"
  },
  "orig_nbformat": 4
 },
 "nbformat": 4,
 "nbformat_minor": 2
}
