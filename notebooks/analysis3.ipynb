{
 "cells": [
  {
   "cell_type": "markdown",
   "metadata": {},
   "source": [
    "# Follow-up to the second analysis"
   ]
  },
  {
   "cell_type": "markdown",
   "metadata": {},
   "source": [
    "As a result of second analysis 2 models were trained and tested. Features of the 2 models:\n",
    "- cropped dataset (accuracy: 0.802, cohen kappa score: 0.632)\n",
    "- MSE loss (accuracy: 0.770, cohen kappa score: 0.424)"
   ]
  },
  {
   "cell_type": "markdown",
   "metadata": {},
   "source": [
    "The creation of cropped dataset improved the results"
   ]
  },
  {
   "cell_type": "markdown",
   "metadata": {},
   "source": [
    "Another idea would be to strenghten the augmentations and see if the results improve. Changed augmentations:"
   ]
  },
  {
   "cell_type": "code",
   "execution_count": null,
   "metadata": {},
   "outputs": [],
   "source": [
    "transforms.ColorJitter(brightness=0.1, contrast=0.1, saturation=0.1, hue=0.1),\n",
    "transforms.RandomRotation(degrees=15),\n",
    "transforms.RandomHorizontalFlip(p=0.5),\n",
    "transforms.RandomVerticalFlip(p=0.5),\n",
    "transforms.RandomPerspective(distortion_scale=0.1, p=0.5)"
   ]
  },
  {
   "cell_type": "markdown",
   "metadata": {},
   "source": [
    "Also another idea would be to check other model architectures. Mobilenet_v2 might be too small for the current problem. Different architectures that are going to be checked out:\n",
    "- VGG16\n",
    "- Efficientnet b7\n",
    "- Densenet201\n",
    "- Resnet152\n",
    "\n",
    "All the above architectures were selected as a result of original papers analysis. The above versions performed in the best way and hence were selected for this project's purpose."
   ]
  }
 ],
 "metadata": {
  "language_info": {
   "name": "python"
  },
  "orig_nbformat": 4
 },
 "nbformat": 4,
 "nbformat_minor": 2
}
