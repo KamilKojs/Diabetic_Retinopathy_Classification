{
 "cells": [
  {
   "cell_type": "markdown",
   "metadata": {},
   "source": [
    "# Follow-up to the third analysis"
   ]
  },
  {
   "cell_type": "markdown",
   "metadata": {},
   "source": [
    "As a result of third analysis 5 models were trained and tested. Features of the 5 models:\n",
    "- strenghtened augmentations (accuracy: 0.693, cohen kappa score: 0.672)\n",
    "- VGG16 (accuracy: 0.771, cohen kappa score: 0.716)\n",
    "- Efficientnet b7 (accuracy: 0.768, cohen kappa score: 0.724)\n",
    "- Densenet201 (accuracy: 0.727, cohen kappa score: 0.678)\n",
    "- Resnet152 (accuracy: 0.735, cohen kappa score: 0.703)"
   ]
  },
  {
   "cell_type": "markdown",
   "metadata": {},
   "source": [
    "Architectures comparison:"
   ]
  },
  {
   "cell_type": "code",
   "execution_count": 10,
   "metadata": {},
   "outputs": [
    {
     "data": {
      "text/plain": [
       "<matplotlib.legend.Legend at 0x7fd78a0bbfa0>"
      ]
     },
     "execution_count": 10,
     "metadata": {},
     "output_type": "execute_result"
    },
    {
     "data": {
      "image/png": "[encoded data removed]",
      "text/plain": [
       "<Figure size 432x288 with 1 Axes>"
      ]
     },
     "metadata": {
      "needs_background": "light"
     },
     "output_type": "display_data"
    }
   ],
   "source": [
    "import matplotlib.pyplot as plt\n",
    "\n",
    "x = [\"Mobilenet\", \"VGG16\", \"Efficientnet\", \"Densenet\", \"Resnet\"]\n",
    "y = [(0.672, 0.693), (0.716, 0.771), (0.724, 0.768), (0.678, 0.727), (0.703, 0.735)]\n",
    "plt.plot(x, y, linestyle='None', marker='o', markersize = 5.0)\n",
    "plt.legend([\"Quadratic Weighted Kappa\", \"Accuracy\"])"
   ]
  },
  {
   "cell_type": "markdown",
   "metadata": {},
   "source": [
    "Efficientnet seems to be the best performing architecture for the diabetic retinopathy image classification. The efficientnet b7 architecture is going to be used in the following experiments."
   ]
  },
  {
   "cell_type": "markdown",
   "metadata": {},
   "source": [
    "What if we increased the image resolution? Current transform produces image in size 224x224. The features that describe diabetic retinopathy are mainly small dots that might be hard to see in such low resolution. Lets try bigger resolutions:\n",
    "- 384\n",
    "- 512\n",
    "- 768\n",
    "- 896\n",
    "- 1024"
   ]
  },
  {
   "cell_type": "markdown",
   "metadata": {},
   "source": [
    "Also after resolution experiments lets try to add a learning rate scheduler to lower the lr to 2e-7 after a couple of epochs to fine tune the parameters even more."
   ]
  }
 ],
 "metadata": {
  "interpreter": {
   "hash": "616fefe5168510cb6bf1185478f8c5ca553b54d10c601b7c56f29b938404de5b"
  },
  "kernelspec": {
   "display_name": "Python 3.8.7 64-bit",
   "language": "python",
   "name": "python3"
  },
  "language_info": {
   "codemirror_mode": {
    "name": "ipython",
    "version": 3
   },
   "file_extension": ".py",
   "mimetype": "text/x-python",
   "name": "python",
   "nbconvert_exporter": "python",
   "pygments_lexer": "ipython3",
   "version": "3.8.7"
  },
  "orig_nbformat": 4
 },
 "nbformat": 4,
 "nbformat_minor": 2
}
