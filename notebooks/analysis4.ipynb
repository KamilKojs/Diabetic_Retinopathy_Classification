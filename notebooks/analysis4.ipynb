{
 "cells": [
  {
   "cell_type": "markdown",
   "metadata": {},
   "source": [
    "# Follow-up to the third analysis"
   ]
  },
  {
   "cell_type": "markdown",
   "metadata": {},
   "source": [
    "As a result of third analysis 5 models were trained and tested. Features of the 5 models:\n",
    "- strenghtened augmentations (accuracy: , cohen kappa score: )\n",
    "- VGG16 (accuracy: , cohen kappa score: )\n",
    "- Efficientnet b7 (accuracy: , cohen kappa score: )\n",
    "- Densenet201 (accuracy: , cohen kappa score: )\n",
    "- Resnet152 (accuracy: , cohen kappa score: )"
   ]
  },
  {
   "cell_type": "markdown",
   "metadata": {},
   "source": [
    "Architectures comparison:"
   ]
  },
  {
   "cell_type": "code",
   "execution_count": 9,
   "metadata": {},
   "outputs": [
    {
     "data": {
      "text/plain": [
       "<matplotlib.legend.Legend at 0x7fd78a0bbfd0>"
      ]
     },
     "execution_count": 9,
     "metadata": {},
     "output_type": "execute_result"
    },
    {
     "data": {
      "image/png": "[encoded data removed]",
      "text/plain": [
       "<Figure size 432x288 with 1 Axes>"
      ]
     },
     "metadata": {
      "needs_background": "light"
     },
     "output_type": "display_data"
    }
   ],
   "source": [
    "import matplotlib.pyplot as plt\n",
    "\n",
    "x = [\"Mobilenet\", \"VGG16\", \"Efficientnet\", \"Densenet\", \"Resnet\"]\n",
    "y = [(0.6, 0.1), (0.6, 0.1), (0.6, 0.1), (0.6, 0.1), (0.6, 0.1)]\n",
    "plt.plot(x, y, linestyle='None', marker='o', markersize = 5.0)\n",
    "plt.legend([\"Quadratic Weighted Kappa\", \"Accuracy\"])"
   ]
  },
  {
   "cell_type": "markdown",
   "metadata": {},
   "source": [
    "What if we increased the image resolution? Current transform produces image in size 224x224. The features that describe diabetic retinopathy are mainly small dots that might be hard to see in such low resolution. Lets try bigger resolutions:\n",
    "- 384\n",
    "- 512\n",
    "- 640\n",
    "- 768\n",
    "- 896\n",
    "- 1024"
   ]
  },
  {
   "cell_type": "markdown",
   "metadata": {},
   "source": [
    "Also after resolution experiments lets try to add a learning rate scheduler to lower the lr to 2e-7 after a couple of epochs to fine tune the parameters even more."
   ]
  }
 ],
 "metadata": {
  "interpreter": {
   "hash": "616fefe5168510cb6bf1185478f8c5ca553b54d10c601b7c56f29b938404de5b"
  },
  "kernelspec": {
   "display_name": "Python 3.8.7 64-bit",
   "language": "python",
   "name": "python3"
  },
  "language_info": {
   "codemirror_mode": {
    "name": "ipython",
    "version": 3
   },
   "file_extension": ".py",
   "mimetype": "text/x-python",
   "name": "python",
   "nbconvert_exporter": "python",
   "pygments_lexer": "ipython3",
   "version": "3.8.7"
  },
  "orig_nbformat": 4
 },
 "nbformat": 4,
 "nbformat_minor": 2
}
